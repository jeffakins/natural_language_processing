{
 "cells": [
  {
   "cell_type": "markdown",
   "metadata": {},
   "source": [
    "# Data Acquisition with Web Scraping"
   ]
  },
  {
   "cell_type": "code",
   "execution_count": 1,
   "metadata": {},
   "outputs": [],
   "source": [
    "import requests\n",
    "from bs4 import BeautifulSoup \n",
    "import pandas as pd"
   ]
  },
  {
   "cell_type": "markdown",
   "metadata": {},
   "source": [
    "First make the request. The response is a bunch of html."
   ]
  },
  {
   "cell_type": "code",
   "execution_count": 2,
   "metadata": {},
   "outputs": [
    {
     "data": {
      "text/plain": [
       "'<!DOCTYPE html>\\n<html lang=\"en\">\\n<head>\\n    <meta charset=\"UTF-8\">\\n    <meta http-equiv=\"X-UA-Compatible\" content=\"IE=edge\">\\n    <meta name=\"viewport\" content=\"width=device-width, initial-scale=1.0\">\\n    <title>News Example Page</title>\\n    <link href=\"https://unpkg.com/tailwindcss@^2/dist/tailwind.min.css\" rel=\"stylesheet\" />\\n    <link rel=\"stylesheet\" href=\"https://cdn.jsdelivr.net/npm/bootstrap-icons@1.4.1/font/bootstrap-icons.css\" />\\n</head>\\n<body class=\"mx-auto max-w-screen-lg pb-32\">\\n    \\n<h1 class=\"my-5 text-4xl text-center\">News!</h1>\\n<div class=\"my-5 text-red-800 px-5 py-3 bg-red-100 font-bold\">\\n    <p>\\n        <i class=\"bi bi-exclamation-circle text-xl\"></i>\\n        All data on this page is strictly for demonstration purposes and fake.\\n    </p>\\n</div>\\n<div class=\"grid gap-y-12\">\\n    \\n    <div class=\"grid grid-cols-4 gap-x-4 border rounded pr-3 bg-green-50 hover:shadow-lg transition duration-500\">\\n        <img src=\"/static/placeholder.png\" />\\n        <div class=\"col-span-3 space-y-3 py-3\">\\n            <h2 class=\"text-2xl text-green-900\">address gun different</h2>\\n            <div class=\"grid grid-cols-2 italic\">\\n                <p> 2020-01-13 </p>\\n                <p class=\"text-right\">By Curtis Watkins </p>\\n            </div>\\n            <p>Authority mouth conference better career provide attorney travel. Share career party drug tonight half lot. Teach piece five.\\nBody more physical face. Whole assume board over enjoy. Do morning day skin store.</p>\\n        </div>\\n    </div>\\n    \\n    <div class=\"grid grid-cols-4 gap-x-4 border rounded pr-3 bg-green-50 hover:shadow-lg transition duration-500\">\\n        <img src=\"/static/placeholder.png\" />\\n        <div class=\"col-span-3 space-y-3 py-3\">\\n            <h2 class=\"text-2xl text-green-900\">image candidate window</h2>\\n            <div class=\"grid grid-cols-2 italic\">\\n                <p> 2013-11-09 </p>\\n                <p class=\"text-right\">By Christopher Scott </p>\\n            </div>\\n            <p>Take forward tax simply too rule project. Assume yourself soon thus reduce. Reveal almost receive life.\\nSpeak material attention policy. Money late article enough arrive anyone.</p>\\n        </div>\\n    </div>\\n    \\n    <div class=\"grid grid-cols-4 gap-x-4 border rounded pr-3 bg-green-50 hover:shadow-lg transition duration-500\">\\n        <img src=\"/static/placeholder.png\" />\\n        <div class=\"col-span-3 space-y-3 py-3\">\\n            <h2 class=\"text-2xl text-green-900\">necessary part sense</h2>\\n            <div class=\"grid grid-cols-2 italic\">\\n                <p> 2020-01-13 </p>\\n                <p class=\"text-right\">By Heidi Rivera </p>\\n            </div>\\n            <p>Member tax old know tax. Happy color amount next around film throughout push.\\nDown conference sport image. Window others man rock. Woman should agent single them.</p>\\n        </div>\\n    </div>\\n    \\n    <div class=\"grid grid-cols-4 gap-x-4 border rounded pr-3 bg-green-50 hover:shadow-lg transition duration-500\">\\n        <img src=\"/static/placeholder.png\" />\\n        <div class=\"col-span-3 space-y-3 py-3\">\\n            <h2 class=\"text-2xl text-green-900\">major example know</h2>\\n            <div class=\"grid grid-cols-2 italic\">\\n                <p> 1990-10-18 </p>\\n                <p class=\"text-right\">By Vanessa Lane </p>\\n            </div>\\n            <p>Goal those himself six each because change think.\\nImage herself three many her loss. Speech special whole professor age.</p>\\n        </div>\\n    </div>\\n    \\n    <div class=\"grid grid-cols-4 gap-x-4 border rounded pr-3 bg-green-50 hover:shadow-lg transition duration-500\">\\n        <img src=\"/static/placeholder.png\" />\\n        <div class=\"col-span-3 space-y-3 py-3\">\\n            <h2 class=\"text-2xl text-green-900\">the both poor</h2>\\n            <div class=\"grid grid-cols-2 italic\">\\n                <p> 1989-07-21 </p>\\n                <p class=\"text-right\">By Sharon Noble </p>\\n            </div>\\n            <p>State begin apply pull owner them trial. Significant near standard individual.\\nWhom painting task believe probably bad particularly. Stand room any example we tend relate. Consider tend quickly teacher site.</p>\\n        </div>\\n    </div>\\n    \\n    <div class=\"grid grid-cols-4 gap-x-4 border rounded pr-3 bg-green-50 hover:shadow-lg transition duration-500\">\\n        <img src=\"/static/placeholder.png\" />\\n        <div class=\"col-span-3 space-y-3 py-3\">\\n            <h2 class=\"text-2xl text-green-900\">laugh life spring</h2>\\n            <div class=\"grid grid-cols-2 italic\">\\n                <p> 1984-06-20 </p>\\n                <p class=\"text-right\">By Kyle Summers </p>\\n            </div>\\n            <p>Another determine local American contain. Most member dog site rock only major want. Happen shake join the base daughter. You night government along strong today send.\\nWestern that pretty increase. Notice writer entire size western former again degree. Stay through hit think bank.</p>\\n        </div>\\n    </div>\\n    \\n    <div class=\"grid grid-cols-4 gap-x-4 border rounded pr-3 bg-green-50 hover:shadow-lg transition duration-500\">\\n        <img src=\"/static/placeholder.png\" />\\n        <div class=\"col-span-3 space-y-3 py-3\">\\n            <h2 class=\"text-2xl text-green-900\">up mention house</h2>\\n            <div class=\"grid grid-cols-2 italic\">\\n                <p> 1976-03-04 </p>\\n                <p class=\"text-right\">By Jack Dominguez </p>\\n            </div>\\n            <p>Share partner reflect society. Them close start per cultural PM. Happen that human.\\nWeight easy bag field leg outside. Check her little money style case onto meeting.</p>\\n        </div>\\n    </div>\\n    \\n    <div class=\"grid grid-cols-4 gap-x-4 border rounded pr-3 bg-green-50 hover:shadow-lg transition duration-500\">\\n        <img src=\"/static/placeholder.png\" />\\n        <div class=\"col-span-3 space-y-3 py-3\">\\n            <h2 class=\"text-2xl text-green-900\">onto grow theory</h2>\\n            <div class=\"grid grid-cols-2 italic\">\\n                <p> 2020-04-30 </p>\\n                <p class=\"text-right\">By Megan Davis </p>\\n            </div>\\n            <p>Such fear unit collection. Few wide what weight throughout still avoid. While increase hotel learn sure perform reduce.\\nBaby commercial carry less up mission scientist force. Set want public health expert military sort newspaper.</p>\\n        </div>\\n    </div>\\n    \\n    <div class=\"grid grid-cols-4 gap-x-4 border rounded pr-3 bg-green-50 hover:shadow-lg transition duration-500\">\\n        <img src=\"/static/placeholder.png\" />\\n        <div class=\"col-span-3 space-y-3 py-3\">\\n            <h2 class=\"text-2xl text-green-900\">wide agree card</h2>\\n            <div class=\"grid grid-cols-2 italic\">\\n                <p> 1977-10-05 </p>\\n                <p class=\"text-right\">By Timothy Cox </p>\\n            </div>\\n            <p>Beyond full finish add for through imagine. Although student win. Prepare receive civil meet.\\nThough resource sometimes century edge. Operation bag test forget. Leader front feel window live behavior.</p>\\n        </div>\\n    </div>\\n    \\n    <div class=\"grid grid-cols-4 gap-x-4 border rounded pr-3 bg-green-50 hover:shadow-lg transition duration-500\">\\n        <img src=\"/static/placeholder.png\" />\\n        <div class=\"col-span-3 space-y-3 py-3\">\\n            <h2 class=\"text-2xl text-green-900\">fact successful sense</h2>\\n            <div class=\"grid grid-cols-2 italic\">\\n                <p> 2003-01-06 </p>\\n                <p class=\"text-right\">By Diane Smith </p>\\n            </div>\\n            <p>Pick tree forward end husband area idea. None use process none action media never by. Where population pass cell itself indeed improve.\\nWould instead up of. Spend recent commercial important.</p>\\n        </div>\\n    </div>\\n    \\n    <div class=\"grid grid-cols-4 gap-x-4 border rounded pr-3 bg-green-50 hover:shadow-lg transition duration-500\">\\n        <img src=\"/static/placeholder.png\" />\\n        <div class=\"col-span-3 space-y-3 py-3\">\\n            <h2 class=\"text-2xl text-green-900\">different forward clearly</h2>\\n            <div class=\"grid grid-cols-2 italic\">\\n                <p> 1971-09-07 </p>\\n                <p class=\"text-right\">By Kevin Pittman </p>\\n            </div>\\n            <p>Upon board computer group along thought coach south. Apply themselves as far fight cold skill third.\\nFrom too the. Civil short source if these table.</p>\\n        </div>\\n    </div>\\n    \\n    <div class=\"grid grid-cols-4 gap-x-4 border rounded pr-3 bg-green-50 hover:shadow-lg transition duration-500\">\\n        <img src=\"/static/placeholder.png\" />\\n        <div class=\"col-span-3 space-y-3 py-3\">\\n            <h2 class=\"text-2xl text-green-900\">morning discussion step</h2>\\n            <div class=\"grid grid-cols-2 italic\">\\n                <p> 2012-05-27 </p>\\n                <p class=\"text-right\">By Michele Greene </p>\\n            </div>\\n            <p>Level gun reach. Member employee pass score day forget idea second. Lot idea before try fill know.\\nOur cell dream hour professor knowledge. Name door bar security early situation popular. Second one page site.</p>\\n        </div>\\n    </div>\\n    \\n</div>\\n\\n</body>\\n</html>'"
      ]
     },
     "execution_count": 2,
     "metadata": {},
     "output_type": "execute_result"
    }
   ],
   "source": [
    "response = requests.get('https://web-scraping-demo.zgulde.net/news')\n",
    "html = response.text\n",
    "html"
   ]
  },
  {
   "cell_type": "markdown",
   "metadata": {},
   "source": [
    "We can make more sense of that html with the beautiful soup library."
   ]
  },
  {
   "cell_type": "code",
   "execution_count": 3,
   "metadata": {},
   "outputs": [
    {
     "data": {
      "text/plain": [
       "<!DOCTYPE html>\n",
       "<html lang=\"en\">\n",
       "<head>\n",
       "<meta charset=\"utf-8\"/>\n",
       "<meta content=\"IE=edge\" http-equiv=\"X-UA-Compatible\"/>\n",
       "<meta content=\"width=device-width, initial-scale=1.0\" name=\"viewport\"/>\n",
       "<title>News Example Page</title>\n",
       "<link href=\"https://unpkg.com/tailwindcss@^2/dist/tailwind.min.css\" rel=\"stylesheet\"/>\n",
       "<link href=\"https://cdn.jsdelivr.net/npm/bootstrap-icons@1.4.1/font/bootstrap-icons.css\" rel=\"stylesheet\"/>\n",
       "</head>\n",
       "<body class=\"mx-auto max-w-screen-lg pb-32\">\n",
       "<h1 class=\"my-5 text-4xl text-center\">News!</h1>\n",
       "<div class=\"my-5 text-red-800 px-5 py-3 bg-red-100 font-bold\">\n",
       "<p>\n",
       "<i class=\"bi bi-exclamation-circle text-xl\"></i>\n",
       "        All data on this page is strictly for demonstration purposes and fake.\n",
       "    </p>\n",
       "</div>\n",
       "<div class=\"grid gap-y-12\">\n",
       "<div class=\"grid grid-cols-4 gap-x-4 border rounded pr-3 bg-green-50 hover:shadow-lg transition duration-500\">\n",
       "<img src=\"/static/placeholder.png\"/>\n",
       "<div class=\"col-span-3 space-y-3 py-3\">\n",
       "<h2 class=\"text-2xl text-green-900\">address gun different</h2>\n",
       "<div class=\"grid grid-cols-2 italic\">\n",
       "<p> 2020-01-13 </p>\n",
       "<p class=\"text-right\">By Curtis Watkins </p>\n",
       "</div>\n",
       "<p>Authority mouth conference better career provide attorney travel. Share career party drug tonight half lot. Teach piece five.\n",
       "Body more physical face. Whole assume board over enjoy. Do morning day skin store.</p>\n",
       "</div>\n",
       "</div>\n",
       "<div class=\"grid grid-cols-4 gap-x-4 border rounded pr-3 bg-green-50 hover:shadow-lg transition duration-500\">\n",
       "<img src=\"/static/placeholder.png\"/>\n",
       "<div class=\"col-span-3 space-y-3 py-3\">\n",
       "<h2 class=\"text-2xl text-green-900\">image candidate window</h2>\n",
       "<div class=\"grid grid-cols-2 italic\">\n",
       "<p> 2013-11-09 </p>\n",
       "<p class=\"text-right\">By Christopher Scott </p>\n",
       "</div>\n",
       "<p>Take forward tax simply too rule project. Assume yourself soon thus reduce. Reveal almost receive life.\n",
       "Speak material attention policy. Money late article enough arrive anyone.</p>\n",
       "</div>\n",
       "</div>\n",
       "<div class=\"grid grid-cols-4 gap-x-4 border rounded pr-3 bg-green-50 hover:shadow-lg transition duration-500\">\n",
       "<img src=\"/static/placeholder.png\"/>\n",
       "<div class=\"col-span-3 space-y-3 py-3\">\n",
       "<h2 class=\"text-2xl text-green-900\">necessary part sense</h2>\n",
       "<div class=\"grid grid-cols-2 italic\">\n",
       "<p> 2020-01-13 </p>\n",
       "<p class=\"text-right\">By Heidi Rivera </p>\n",
       "</div>\n",
       "<p>Member tax old know tax. Happy color amount next around film throughout push.\n",
       "Down conference sport image. Window others man rock. Woman should agent single them.</p>\n",
       "</div>\n",
       "</div>\n",
       "<div class=\"grid grid-cols-4 gap-x-4 border rounded pr-3 bg-green-50 hover:shadow-lg transition duration-500\">\n",
       "<img src=\"/static/placeholder.png\"/>\n",
       "<div class=\"col-span-3 space-y-3 py-3\">\n",
       "<h2 class=\"text-2xl text-green-900\">major example know</h2>\n",
       "<div class=\"grid grid-cols-2 italic\">\n",
       "<p> 1990-10-18 </p>\n",
       "<p class=\"text-right\">By Vanessa Lane </p>\n",
       "</div>\n",
       "<p>Goal those himself six each because change think.\n",
       "Image herself three many her loss. Speech special whole professor age.</p>\n",
       "</div>\n",
       "</div>\n",
       "<div class=\"grid grid-cols-4 gap-x-4 border rounded pr-3 bg-green-50 hover:shadow-lg transition duration-500\">\n",
       "<img src=\"/static/placeholder.png\"/>\n",
       "<div class=\"col-span-3 space-y-3 py-3\">\n",
       "<h2 class=\"text-2xl text-green-900\">the both poor</h2>\n",
       "<div class=\"grid grid-cols-2 italic\">\n",
       "<p> 1989-07-21 </p>\n",
       "<p class=\"text-right\">By Sharon Noble </p>\n",
       "</div>\n",
       "<p>State begin apply pull owner them trial. Significant near standard individual.\n",
       "Whom painting task believe probably bad particularly. Stand room any example we tend relate. Consider tend quickly teacher site.</p>\n",
       "</div>\n",
       "</div>\n",
       "<div class=\"grid grid-cols-4 gap-x-4 border rounded pr-3 bg-green-50 hover:shadow-lg transition duration-500\">\n",
       "<img src=\"/static/placeholder.png\"/>\n",
       "<div class=\"col-span-3 space-y-3 py-3\">\n",
       "<h2 class=\"text-2xl text-green-900\">laugh life spring</h2>\n",
       "<div class=\"grid grid-cols-2 italic\">\n",
       "<p> 1984-06-20 </p>\n",
       "<p class=\"text-right\">By Kyle Summers </p>\n",
       "</div>\n",
       "<p>Another determine local American contain. Most member dog site rock only major want. Happen shake join the base daughter. You night government along strong today send.\n",
       "Western that pretty increase. Notice writer entire size western former again degree. Stay through hit think bank.</p>\n",
       "</div>\n",
       "</div>\n",
       "<div class=\"grid grid-cols-4 gap-x-4 border rounded pr-3 bg-green-50 hover:shadow-lg transition duration-500\">\n",
       "<img src=\"/static/placeholder.png\"/>\n",
       "<div class=\"col-span-3 space-y-3 py-3\">\n",
       "<h2 class=\"text-2xl text-green-900\">up mention house</h2>\n",
       "<div class=\"grid grid-cols-2 italic\">\n",
       "<p> 1976-03-04 </p>\n",
       "<p class=\"text-right\">By Jack Dominguez </p>\n",
       "</div>\n",
       "<p>Share partner reflect society. Them close start per cultural PM. Happen that human.\n",
       "Weight easy bag field leg outside. Check her little money style case onto meeting.</p>\n",
       "</div>\n",
       "</div>\n",
       "<div class=\"grid grid-cols-4 gap-x-4 border rounded pr-3 bg-green-50 hover:shadow-lg transition duration-500\">\n",
       "<img src=\"/static/placeholder.png\"/>\n",
       "<div class=\"col-span-3 space-y-3 py-3\">\n",
       "<h2 class=\"text-2xl text-green-900\">onto grow theory</h2>\n",
       "<div class=\"grid grid-cols-2 italic\">\n",
       "<p> 2020-04-30 </p>\n",
       "<p class=\"text-right\">By Megan Davis </p>\n",
       "</div>\n",
       "<p>Such fear unit collection. Few wide what weight throughout still avoid. While increase hotel learn sure perform reduce.\n",
       "Baby commercial carry less up mission scientist force. Set want public health expert military sort newspaper.</p>\n",
       "</div>\n",
       "</div>\n",
       "<div class=\"grid grid-cols-4 gap-x-4 border rounded pr-3 bg-green-50 hover:shadow-lg transition duration-500\">\n",
       "<img src=\"/static/placeholder.png\"/>\n",
       "<div class=\"col-span-3 space-y-3 py-3\">\n",
       "<h2 class=\"text-2xl text-green-900\">wide agree card</h2>\n",
       "<div class=\"grid grid-cols-2 italic\">\n",
       "<p> 1977-10-05 </p>\n",
       "<p class=\"text-right\">By Timothy Cox </p>\n",
       "</div>\n",
       "<p>Beyond full finish add for through imagine. Although student win. Prepare receive civil meet.\n",
       "Though resource sometimes century edge. Operation bag test forget. Leader front feel window live behavior.</p>\n",
       "</div>\n",
       "</div>\n",
       "<div class=\"grid grid-cols-4 gap-x-4 border rounded pr-3 bg-green-50 hover:shadow-lg transition duration-500\">\n",
       "<img src=\"/static/placeholder.png\"/>\n",
       "<div class=\"col-span-3 space-y-3 py-3\">\n",
       "<h2 class=\"text-2xl text-green-900\">fact successful sense</h2>\n",
       "<div class=\"grid grid-cols-2 italic\">\n",
       "<p> 2003-01-06 </p>\n",
       "<p class=\"text-right\">By Diane Smith </p>\n",
       "</div>\n",
       "<p>Pick tree forward end husband area idea. None use process none action media never by. Where population pass cell itself indeed improve.\n",
       "Would instead up of. Spend recent commercial important.</p>\n",
       "</div>\n",
       "</div>\n",
       "<div class=\"grid grid-cols-4 gap-x-4 border rounded pr-3 bg-green-50 hover:shadow-lg transition duration-500\">\n",
       "<img src=\"/static/placeholder.png\"/>\n",
       "<div class=\"col-span-3 space-y-3 py-3\">\n",
       "<h2 class=\"text-2xl text-green-900\">different forward clearly</h2>\n",
       "<div class=\"grid grid-cols-2 italic\">\n",
       "<p> 1971-09-07 </p>\n",
       "<p class=\"text-right\">By Kevin Pittman </p>\n",
       "</div>\n",
       "<p>Upon board computer group along thought coach south. Apply themselves as far fight cold skill third.\n",
       "From too the. Civil short source if these table.</p>\n",
       "</div>\n",
       "</div>\n",
       "<div class=\"grid grid-cols-4 gap-x-4 border rounded pr-3 bg-green-50 hover:shadow-lg transition duration-500\">\n",
       "<img src=\"/static/placeholder.png\"/>\n",
       "<div class=\"col-span-3 space-y-3 py-3\">\n",
       "<h2 class=\"text-2xl text-green-900\">morning discussion step</h2>\n",
       "<div class=\"grid grid-cols-2 italic\">\n",
       "<p> 2012-05-27 </p>\n",
       "<p class=\"text-right\">By Michele Greene </p>\n",
       "</div>\n",
       "<p>Level gun reach. Member employee pass score day forget idea second. Lot idea before try fill know.\n",
       "Our cell dream hour professor knowledge. Name door bar security early situation popular. Second one page site.</p>\n",
       "</div>\n",
       "</div>\n",
       "</div>\n",
       "</body>\n",
       "</html>"
      ]
     },
     "execution_count": 3,
     "metadata": {},
     "output_type": "execute_result"
    }
   ],
   "source": [
    "soup = BeautifulSoup(html)\n",
    "soup"
   ]
  },
  {
   "cell_type": "markdown",
   "metadata": {},
   "source": [
    "From here we can switch between the browser and python and try out different ways of getting different parts of the html document.\n",
    "\n",
    "We can leverage Google Chrome's developer tools by right clicking and choosing \"Inspect\". We can then use this html document inspector to help us with our web scraping."
   ]
  },
  {
   "cell_type": "code",
   "execution_count": 4,
   "metadata": {},
   "outputs": [
    {
     "data": {
      "text/plain": [
       "[<p> 2020-01-13 </p>, <p class=\"text-right\">By Curtis Watkins </p>]"
      ]
     },
     "execution_count": 4,
     "metadata": {},
     "output_type": "execute_result"
    }
   ],
   "source": [
    "articles = soup.select('.grid.grid-cols-4.gap-x-4.border')\n",
    "articles[0].select('.italic')[0].select('p')"
   ]
  },
  {
   "cell_type": "markdown",
   "metadata": {},
   "source": [
    "Bringing it all together:"
   ]
  },
  {
   "cell_type": "code",
   "execution_count": 5,
   "metadata": {},
   "outputs": [
    {
     "data": {
      "text/html": [
       "<div>\n",
       "<style scoped>\n",
       "    .dataframe tbody tr th:only-of-type {\n",
       "        vertical-align: middle;\n",
       "    }\n",
       "\n",
       "    .dataframe tbody tr th {\n",
       "        vertical-align: top;\n",
       "    }\n",
       "\n",
       "    .dataframe thead th {\n",
       "        text-align: right;\n",
       "    }\n",
       "</style>\n",
       "<table border=\"1\" class=\"dataframe\">\n",
       "  <thead>\n",
       "    <tr style=\"text-align: right;\">\n",
       "      <th></th>\n",
       "      <th>title</th>\n",
       "      <th>date</th>\n",
       "      <th>author</th>\n",
       "    </tr>\n",
       "  </thead>\n",
       "  <tbody>\n",
       "    <tr>\n",
       "      <th>0</th>\n",
       "      <td>address gun different</td>\n",
       "      <td>2020-01-13</td>\n",
       "      <td>By Curtis Watkins</td>\n",
       "    </tr>\n",
       "    <tr>\n",
       "      <th>1</th>\n",
       "      <td>image candidate window</td>\n",
       "      <td>2020-01-13</td>\n",
       "      <td>By Curtis Watkins</td>\n",
       "    </tr>\n",
       "    <tr>\n",
       "      <th>2</th>\n",
       "      <td>necessary part sense</td>\n",
       "      <td>2020-01-13</td>\n",
       "      <td>By Curtis Watkins</td>\n",
       "    </tr>\n",
       "    <tr>\n",
       "      <th>3</th>\n",
       "      <td>major example know</td>\n",
       "      <td>2020-01-13</td>\n",
       "      <td>By Curtis Watkins</td>\n",
       "    </tr>\n",
       "    <tr>\n",
       "      <th>4</th>\n",
       "      <td>the both poor</td>\n",
       "      <td>2020-01-13</td>\n",
       "      <td>By Curtis Watkins</td>\n",
       "    </tr>\n",
       "    <tr>\n",
       "      <th>5</th>\n",
       "      <td>laugh life spring</td>\n",
       "      <td>2020-01-13</td>\n",
       "      <td>By Curtis Watkins</td>\n",
       "    </tr>\n",
       "    <tr>\n",
       "      <th>6</th>\n",
       "      <td>up mention house</td>\n",
       "      <td>2020-01-13</td>\n",
       "      <td>By Curtis Watkins</td>\n",
       "    </tr>\n",
       "    <tr>\n",
       "      <th>7</th>\n",
       "      <td>onto grow theory</td>\n",
       "      <td>2020-01-13</td>\n",
       "      <td>By Curtis Watkins</td>\n",
       "    </tr>\n",
       "    <tr>\n",
       "      <th>8</th>\n",
       "      <td>wide agree card</td>\n",
       "      <td>2020-01-13</td>\n",
       "      <td>By Curtis Watkins</td>\n",
       "    </tr>\n",
       "    <tr>\n",
       "      <th>9</th>\n",
       "      <td>fact successful sense</td>\n",
       "      <td>2020-01-13</td>\n",
       "      <td>By Curtis Watkins</td>\n",
       "    </tr>\n",
       "    <tr>\n",
       "      <th>10</th>\n",
       "      <td>different forward clearly</td>\n",
       "      <td>2020-01-13</td>\n",
       "      <td>By Curtis Watkins</td>\n",
       "    </tr>\n",
       "    <tr>\n",
       "      <th>11</th>\n",
       "      <td>morning discussion step</td>\n",
       "      <td>2020-01-13</td>\n",
       "      <td>By Curtis Watkins</td>\n",
       "    </tr>\n",
       "  </tbody>\n",
       "</table>\n",
       "</div>"
      ],
      "text/plain": [
       "                        title          date              author\n",
       "0       address gun different   2020-01-13   By Curtis Watkins \n",
       "1      image candidate window   2020-01-13   By Curtis Watkins \n",
       "2        necessary part sense   2020-01-13   By Curtis Watkins \n",
       "3          major example know   2020-01-13   By Curtis Watkins \n",
       "4               the both poor   2020-01-13   By Curtis Watkins \n",
       "5           laugh life spring   2020-01-13   By Curtis Watkins \n",
       "6            up mention house   2020-01-13   By Curtis Watkins \n",
       "7            onto grow theory   2020-01-13   By Curtis Watkins \n",
       "8             wide agree card   2020-01-13   By Curtis Watkins \n",
       "9       fact successful sense   2020-01-13   By Curtis Watkins \n",
       "10  different forward clearly   2020-01-13   By Curtis Watkins \n",
       "11    morning discussion step   2020-01-13   By Curtis Watkins "
      ]
     },
     "execution_count": 5,
     "metadata": {},
     "output_type": "execute_result"
    }
   ],
   "source": [
    "def process_article(article):\n",
    "    date, author = articles[0].select('.italic')[0].select('p')\n",
    "    return {\n",
    "        'title': article.h2.text,\n",
    "        'date': date.text,\n",
    "        'author': author.text\n",
    "    }\n",
    "\n",
    "pd.DataFrame([process_article(article) for article in articles])"
   ]
  }
 ],
 "metadata": {
  "interpreter": {
   "hash": "38cca0c38332a56087b24af0bc80247f4fced29cb4f7f437d91dc159adec9c4e"
  },
  "kernelspec": {
   "display_name": "Python 3",
   "language": "python",
   "name": "python3"
  },
  "language_info": {
   "codemirror_mode": {
    "name": "ipython",
    "version": 3
   },
   "file_extension": ".py",
   "mimetype": "text/x-python",
   "name": "python",
   "nbconvert_exporter": "python",
   "pygments_lexer": "ipython3",
   "version": "3.8.8"
  }
 },
 "nbformat": 4,
 "nbformat_minor": 4
}
