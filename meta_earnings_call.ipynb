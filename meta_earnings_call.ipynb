{
 "cells": [
  {
   "cell_type": "markdown",
   "id": "5dc7fc8c",
   "metadata": {},
   "source": [
    "# Meta (Facebook) Q3 Earnings Call\n",
    "This Notebook will be used to practice NLP on Meta's Q3 2021 Earnings call as well as their statement that explained the changing of the company's name form Facebook to Meta."
   ]
  },
  {
   "cell_type": "code",
   "execution_count": null,
   "id": "68b97480",
   "metadata": {},
   "outputs": [],
   "source": []
  }
 ],
 "metadata": {
  "kernelspec": {
   "display_name": "Python 3",
   "language": "python",
   "name": "python3"
  },
  "language_info": {
   "codemirror_mode": {
    "name": "ipython",
    "version": 3
   },
   "file_extension": ".py",
   "mimetype": "text/x-python",
   "name": "python",
   "nbconvert_exporter": "python",
   "pygments_lexer": "ipython3",
   "version": "3.8.8"
  }
 },
 "nbformat": 4,
 "nbformat_minor": 5
}
