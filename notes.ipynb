{
 "cells": [
  {
   "cell_type": "code",
   "execution_count": 1,
   "id": "9b4df324",
   "metadata": {},
   "outputs": [],
   "source": [
    "import requests\n",
    "from time import sleep"
   ]
  },
  {
   "cell_type": "code",
   "execution_count": null,
   "id": "ab3b1010",
   "metadata": {},
   "outputs": [],
   "source": [
    "url = "
   ]
  },
  {
   "cell_type": "code",
   "execution_count": 2,
   "id": "c35e9cb5",
   "metadata": {},
   "outputs": [],
   "source": [
    "good_response = []"
   ]
  },
  {
   "cell_type": "code",
   "execution_count": 3,
   "id": "7ff2c114",
   "metadata": {},
   "outputs": [],
   "source": [
    "bad_response = []"
   ]
  },
  {
   "cell_type": "code",
   "execution_count": null,
   "id": "d1dc4fb6",
   "metadata": {},
   "outputs": [],
   "source": [
    "fir i in range(1, 101)"
   ]
  }
 ],
 "metadata": {
  "kernelspec": {
   "display_name": "Python 3",
   "language": "python",
   "name": "python3"
  },
  "language_info": {
   "codemirror_mode": {
    "name": "ipython",
    "version": 3
   },
   "file_extension": ".py",
   "mimetype": "text/x-python",
   "name": "python",
   "nbconvert_exporter": "python",
   "pygments_lexer": "ipython3",
   "version": "3.8.8"
  }
 },
 "nbformat": 4,
 "nbformat_minor": 5
}
