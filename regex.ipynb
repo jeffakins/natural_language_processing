{
 "cells": [
  {
   "cell_type": "markdown",
   "id": "30b11998",
   "metadata": {},
   "source": [
    "# NLP Exercises\n",
    "### Regex"
   ]
  },
  {
   "cell_type": "code",
   "execution_count": 57,
   "id": "292269f9",
   "metadata": {},
   "outputs": [],
   "source": [
    "import pandas as pd\n",
    "import re\n",
    "\n",
    "import warnings\n",
    "warnings.filterwarnings('ignore')"
   ]
  },
  {
   "cell_type": "markdown",
   "id": "91a302ef",
   "metadata": {},
   "source": [
    "#### 1. Write a function named is_vowel. It should accept a string as input and use a regular expression to determine if the passed string is a vowel. While not explicity mentioned in the lesson, you can treat the result of re.search as a boolean value that indicates whether or not the regular expression matches the given string.\n",
    "\n"
   ]
  },
  {
   "cell_type": "code",
   "execution_count": 52,
   "id": "051f5484",
   "metadata": {},
   "outputs": [],
   "source": [
    "def is_vowel(vowel_or_not):\n",
    "    '''Test if a passed letter or word has a vowel'''\n",
    "    regex = r'[aeiou]'\n",
    "    re.search(regex, vowel_or_not)\n",
    "    return bool(re.search(regex, vowel_or_not.lower()))"
   ]
  },
  {
   "cell_type": "code",
   "execution_count": 48,
   "id": "f4f727a9",
   "metadata": {},
   "outputs": [
    {
     "data": {
      "text/plain": [
       "True"
      ]
     },
     "execution_count": 48,
     "metadata": {},
     "output_type": "execute_result"
    }
   ],
   "source": [
    "is_vowel('a')"
   ]
  },
  {
   "cell_type": "code",
   "execution_count": 49,
   "id": "786aed6d",
   "metadata": {},
   "outputs": [
    {
     "data": {
      "text/plain": [
       "False"
      ]
     },
     "execution_count": 49,
     "metadata": {},
     "output_type": "execute_result"
    }
   ],
   "source": [
    "is_vowel('b')"
   ]
  },
  {
   "cell_type": "code",
   "execution_count": 50,
   "id": "9750fee9",
   "metadata": {},
   "outputs": [
    {
     "data": {
      "text/plain": [
       "True"
      ]
     },
     "execution_count": 50,
     "metadata": {},
     "output_type": "execute_result"
    }
   ],
   "source": [
    "is_vowel('Hello')"
   ]
  },
  {
   "cell_type": "code",
   "execution_count": 51,
   "id": "31fc7c3b",
   "metadata": {},
   "outputs": [
    {
     "data": {
      "text/plain": [
       "False"
      ]
     },
     "execution_count": 51,
     "metadata": {},
     "output_type": "execute_result"
    }
   ],
   "source": [
    "is_vowel('str')"
   ]
  },
  {
   "cell_type": "markdown",
   "id": "f8f43f56",
   "metadata": {},
   "source": [
    "#### 2. Write a function named is_valid_username that accepts a string as input. A valid username starts with a lowercase letter, and only consists of lowercase letters, numbers, or the _ character. It should also be no longer than 32 characters. The function should return either True or False depending on whether the passed string is a valid username."
   ]
  },
  {
   "cell_type": "code",
   "execution_count": 53,
   "id": "ba26d6e3",
   "metadata": {},
   "outputs": [],
   "source": [
    "def is_valid_username(username):\n",
    "    '''Username must start with a lowercase letter, \n",
    "    and only consists of lowercase letters, numbers, or the _ character. \n",
    "    It should also be no longer than 32 characters'''\n",
    "    regex = r'^[a-z][a-z0-9_]{,31}$'\n",
    "    return bool(re.search(regex, username))"
   ]
  },
  {
   "cell_type": "code",
   "execution_count": 54,
   "id": "24bc80f9",
   "metadata": {},
   "outputs": [
    {
     "name": "stdout",
     "output_type": "stream",
     "text": [
      "False\n",
      "True\n",
      "False\n",
      "True\n",
      "False\n"
     ]
    }
   ],
   "source": [
    "print(is_valid_username('aaaaaaaaaaaaaaaaaaaaaaaaaaaaaaaaa'))\n",
    "\n",
    "print(is_valid_username('codeup'))\n",
    "\n",
    "print(is_valid_username('Codeup'))\n",
    "\n",
    "print(is_valid_username('codeup123'))\n",
    "\n",
    "print(is_valid_username('1codeup'))\n"
   ]
  },
  {
   "cell_type": "code",
   "execution_count": null,
   "id": "97de702e",
   "metadata": {},
   "outputs": [],
   "source": [
    ">>> is_valid_username('aaaaaaaaaaaaaaaaaaaaaaaaaaaaaaaaa')\n",
    "False\n",
    ">>> is_valid_username('codeup')\n",
    "True\n",
    ">>> is_valid_username('Codeup')\n",
    "False\n",
    ">>> is_valid_username('codeup123')\n",
    "True\n",
    ">>> is_valid_username('1codeup')\n",
    "False"
   ]
  },
  {
   "cell_type": "markdown",
   "id": "d47af78c",
   "metadata": {},
   "source": [
    "#### 3. Write a regular expression to capture phone numbers. It should match all of the following:"
   ]
  },
  {
   "cell_type": "code",
   "execution_count": 25,
   "id": "07816334",
   "metadata": {},
   "outputs": [],
   "source": [
    "def capture_phone_number(phone_number):\n",
    "    phone_regex = re.compile(\n",
    "    '''\n",
    "    ^\n",
    "    (?P<country_code>\\+\\d+)?\n",
    "    \\D*?\n",
    "    (?P<area_code>\\d{3})?\n",
    "    \\D*?\n",
    "    (?P<exchange_code>\\d{3})\n",
    "    \\D*?\n",
    "    (?P<line_number>\\d{4})\n",
    "    \\D*\n",
    "    $\n",
    "    ''', re.VERBOSE)\n",
    "    "
   ]
  },
  {
   "cell_type": "code",
   "execution_count": null,
   "id": "0e4785fa",
   "metadata": {},
   "outputs": [],
   "source": [
    "(210) 867 5309\n",
    "+1 210.867.5309\n",
    "867-5309\n",
    "210-867-5309"
   ]
  },
  {
   "cell_type": "markdown",
   "id": "22ea3157",
   "metadata": {},
   "source": [
    "#### 4. Use regular expressions to convert the dates below to the standardized year-month-day format."
   ]
  },
  {
   "cell_type": "code",
   "execution_count": null,
   "id": "5f22b8e0",
   "metadata": {},
   "outputs": [],
   "source": [
    "02/04/19\n",
    "02/05/19\n",
    "02/06/19\n",
    "02/07/19\n",
    "02/08/19\n",
    "02/09/19\n",
    "02/10/19"
   ]
  },
  {
   "cell_type": "code",
   "execution_count": 26,
   "id": "a0052e5f",
   "metadata": {},
   "outputs": [],
   "source": [
    "date_list = [\n",
    "    '02/04/19',\n",
    "    '02/05/19',\n",
    "    '02/06/19',\n",
    "    '02/07/19',\n",
    "    '02/08/19',\n",
    "    '02/09/19',\n",
    "    '02/10/19',\n",
    "]"
   ]
  },
  {
   "cell_type": "code",
   "execution_count": 27,
   "id": "8732303f",
   "metadata": {},
   "outputs": [
    {
     "data": {
      "text/plain": [
       "'2019-02-04'"
      ]
     },
     "execution_count": 27,
     "metadata": {},
     "output_type": "execute_result"
    }
   ],
   "source": [
    "date_reg = r'(\\d+)/(\\d+)/(\\d+)'\n",
    "re.sub(date_reg, r'20\\3-\\1-\\2',date_list[0])"
   ]
  },
  {
   "cell_type": "code",
   "execution_count": 28,
   "id": "b5d654a7",
   "metadata": {},
   "outputs": [
    {
     "data": {
      "text/plain": [
       "['2019-02-04',\n",
       " '2019-02-05',\n",
       " '2019-02-06',\n",
       " '2019-02-07',\n",
       " '2019-02-08',\n",
       " '2019-02-09',\n",
       " '2019-02-10']"
      ]
     },
     "execution_count": 28,
     "metadata": {},
     "output_type": "execute_result"
    }
   ],
   "source": [
    "[re.sub(date_reg, r'20\\3-\\1-\\2',date) for date in date_list]"
   ]
  },
  {
   "cell_type": "code",
   "execution_count": 33,
   "id": "0bb7ac4d",
   "metadata": {},
   "outputs": [
    {
     "data": {
      "text/html": [
       "<div>\n",
       "<style scoped>\n",
       "    .dataframe tbody tr th:only-of-type {\n",
       "        vertical-align: middle;\n",
       "    }\n",
       "\n",
       "    .dataframe tbody tr th {\n",
       "        vertical-align: top;\n",
       "    }\n",
       "\n",
       "    .dataframe thead th {\n",
       "        text-align: right;\n",
       "    }\n",
       "</style>\n",
       "<table border=\"1\" class=\"dataframe\">\n",
       "  <thead>\n",
       "    <tr style=\"text-align: right;\">\n",
       "      <th></th>\n",
       "      <th>date</th>\n",
       "    </tr>\n",
       "  </thead>\n",
       "  <tbody>\n",
       "    <tr>\n",
       "      <th>0</th>\n",
       "      <td>02/04/19</td>\n",
       "    </tr>\n",
       "    <tr>\n",
       "      <th>1</th>\n",
       "      <td>02/05/19</td>\n",
       "    </tr>\n",
       "    <tr>\n",
       "      <th>2</th>\n",
       "      <td>02/06/19</td>\n",
       "    </tr>\n",
       "    <tr>\n",
       "      <th>3</th>\n",
       "      <td>02/07/19</td>\n",
       "    </tr>\n",
       "    <tr>\n",
       "      <th>4</th>\n",
       "      <td>02/08/19</td>\n",
       "    </tr>\n",
       "    <tr>\n",
       "      <th>5</th>\n",
       "      <td>02/09/19</td>\n",
       "    </tr>\n",
       "    <tr>\n",
       "      <th>6</th>\n",
       "      <td>02/10/19</td>\n",
       "    </tr>\n",
       "  </tbody>\n",
       "</table>\n",
       "</div>"
      ],
      "text/plain": [
       "       date\n",
       "0  02/04/19\n",
       "1  02/05/19\n",
       "2  02/06/19\n",
       "3  02/07/19\n",
       "4  02/08/19\n",
       "5  02/09/19\n",
       "6  02/10/19"
      ]
     },
     "execution_count": 33,
     "metadata": {},
     "output_type": "execute_result"
    }
   ],
   "source": [
    "dates = pd.DataFrame(date_list, columns=['date'])\n",
    "dates"
   ]
  },
  {
   "cell_type": "code",
   "execution_count": 58,
   "id": "b4b5c7f7",
   "metadata": {},
   "outputs": [
    {
     "data": {
      "text/plain": [
       "0    2019-02-04\n",
       "1    2019-02-05\n",
       "2    2019-02-06\n",
       "3    2019-02-07\n",
       "4    2019-02-08\n",
       "5    2019-02-09\n",
       "6    2019-02-10\n",
       "Name: date, dtype: object"
      ]
     },
     "execution_count": 58,
     "metadata": {},
     "output_type": "execute_result"
    }
   ],
   "source": [
    "regexp = r'(\\d+)/(\\d+)/(\\d+)'\n",
    "dates.date.str.replace(regexp, r'20\\3-\\1-\\2')"
   ]
  },
  {
   "cell_type": "markdown",
   "id": "08c5902a",
   "metadata": {},
   "source": [
    "#### 5. Write a regex to extract the various parts of these logfile lines:"
   ]
  },
  {
   "cell_type": "code",
   "execution_count": null,
   "id": "eb80d5b1",
   "metadata": {},
   "outputs": [],
   "source": [
    "GET /api/v1/sales?page=86 [16/Apr/2019:193452+0000] HTTP/1.1 {200} 510348 \"python-requests/2.21.0\" 97.105.19.58\n",
    "POST /users_accounts/file-upload [16/Apr/2019:193452+0000] HTTP/1.1 {201} 42 \"User-Agent: Mozilla/5.0 (X11; Fedora; Fedora; Linux x86_64) AppleWebKit/537.36 (KHTML, like Gecko) Chrome/73.0.3683.86 Safari/537.36\" 97.105.19.58\n",
    "GET /api/v1/items?page=3 [16/Apr/2019:193453+0000] HTTP/1.1 {429} 3561 \"python-requests/2.21.0\" 97.105.19.58"
   ]
  },
  {
   "cell_type": "code",
   "execution_count": 44,
   "id": "c649a2b3",
   "metadata": {},
   "outputs": [],
   "source": [
    "lines = \"\"\"\n",
    "GET /api/v1/sales?page=86 [16/Apr/2019:193452+0000] HTTP/1.1 {200} 510348 \"python-requests/2.21.0\" 97.105.19.58\n",
    "POST /users_accounts/file-upload [16/Apr/2019:193452+0000] HTTP/1.1 {201} 42 \"User-Agent: Mozilla/5.0 (X11; Fedora; Fedora; Linux x86_64) AppleWebKit/537.36 (KHTML, like Gecko) Chrome/73.0.3683.86 Safari/537.36\" 97.105.19.58\n",
    "GET /api/v1/items?page=3 [16/Apr/2019:193453+0000] HTTP/1.1 {429} 3561 \"python-requests/2.21.0\" 97.105.19.58\n",
    "\"\"\""
   ]
  },
  {
   "cell_type": "code",
   "execution_count": 45,
   "id": "c204ae47",
   "metadata": {},
   "outputs": [],
   "source": [
    "regexp = r'''\n",
    "^\n",
    "(?P<method>GET|POST)\n",
    "\\s\n",
    "(?P<path>/[/\\w\\-\\?=]+)\n",
    "\\s\n",
    "\\[(?P<timestamp>.+)\\]\n",
    "\\s\n",
    "(?P<http_version>HTTP/\\d+\\.\\d+)\n",
    "\\s\n",
    "\\{(?P<status_code>\\d+)\\}\n",
    "\\s\n",
    "(?P<bytes>\\d+)\n",
    "\\s\n",
    "\"(?P<user_agent>.+)\"\n",
    "\\s\n",
    "(?P<ip>\\d+\\.\\d+\\.\\d+\\.\\d+)\n",
    "$\n",
    "'''"
   ]
  },
  {
   "cell_type": "code",
   "execution_count": 46,
   "id": "f816bfba",
   "metadata": {},
   "outputs": [
    {
     "data": {
      "text/plain": [
       "[{'method': 'GET',\n",
       "  'path': '/api/v1/sales?page=86',\n",
       "  'timestamp': '16/Apr/2019:193452+0000',\n",
       "  'http_version': 'HTTP/1.1',\n",
       "  'status_code': '200',\n",
       "  'bytes': '510348',\n",
       "  'user_agent': 'python-requests/2.21.0',\n",
       "  'ip': '97.105.19.58'},\n",
       " {'method': 'POST',\n",
       "  'path': '/users_accounts/file-upload',\n",
       "  'timestamp': '16/Apr/2019:193452+0000',\n",
       "  'http_version': 'HTTP/1.1',\n",
       "  'status_code': '201',\n",
       "  'bytes': '42',\n",
       "  'user_agent': 'User-Agent: Mozilla/5.0 (X11; Fedora; Fedora; Linux x86_64) AppleWebKit/537.36 (KHTML, like Gecko) Chrome/73.0.3683.86 Safari/537.36',\n",
       "  'ip': '97.105.19.58'},\n",
       " {'method': 'GET',\n",
       "  'path': '/api/v1/items?page=3',\n",
       "  'timestamp': '16/Apr/2019:193453+0000',\n",
       "  'http_version': 'HTTP/1.1',\n",
       "  'status_code': '429',\n",
       "  'bytes': '3561',\n",
       "  'user_agent': 'python-requests/2.21.0',\n",
       "  'ip': '97.105.19.58'}]"
      ]
     },
     "execution_count": 46,
     "metadata": {},
     "output_type": "execute_result"
    }
   ],
   "source": [
    "\n",
    "[re.search(regexp, line, re.VERBOSE).groupdict() for line in lines.strip().split('\\n')]"
   ]
  },
  {
   "cell_type": "markdown",
   "id": "60b9e2fb",
   "metadata": {},
   "source": [
    "### Bonus Exercise"
   ]
  },
  {
   "cell_type": "markdown",
   "id": "18b8d335",
   "metadata": {},
   "source": [
    "#### You can find a list of words on your mac at /usr/share/dict/words. Use this file to answer the following questions:"
   ]
  },
  {
   "cell_type": "code",
   "execution_count": null,
   "id": "b07aa8ca",
   "metadata": {},
   "outputs": [],
   "source": [
    "- How many words have at least 3 vowels?\n",
    "- How many words have at least 3 vowels in a row?\n",
    "- How many words have at least 4 consonants in a row?\n",
    "- How many words start and end with the same letter?\n",
    "- How many words start and end with a vowel?\n",
    "- How many words contain the same letter 3 times in a row?\n",
    "- What other interesting patterns in words can you find?"
   ]
  }
 ],
 "metadata": {
  "kernelspec": {
   "display_name": "Python 3",
   "language": "python",
   "name": "python3"
  },
  "language_info": {
   "codemirror_mode": {
    "name": "ipython",
    "version": 3
   },
   "file_extension": ".py",
   "mimetype": "text/x-python",
   "name": "python",
   "nbconvert_exporter": "python",
   "pygments_lexer": "ipython3",
   "version": "3.8.8"
  }
 },
 "nbformat": 4,
 "nbformat_minor": 5
}
